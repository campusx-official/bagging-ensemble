{
  "nbformat": 4,
  "nbformat_minor": 0,
  "metadata": {
    "colab": {
      "name": "bagging-demo.ipynb",
      "provenance": []
    },
    "kernelspec": {
      "name": "python3",
      "display_name": "Python 3"
    }
  },
  "cells": [
    {
      "cell_type": "code",
      "metadata": {
        "id": "ReWdXXnMeDOi"
      },
      "source": [
        "from sklearn.datasets import make_classification\r\n",
        "from sklearn.metrics import accuracy_score\r\n",
        "from sklearn.ensemble import BaggingClassifier\r\n",
        "from sklearn.tree import DecisionTreeClassifier\r\n",
        "from sklearn.svm import SVC\r\n",
        "from sklearn.model_selection import train_test_split"
      ],
      "execution_count": 50,
      "outputs": []
    },
    {
      "cell_type": "code",
      "metadata": {
        "id": "lLjU4PQQeTzS"
      },
      "source": [
        "X,y = make_classification(n_samples=10000, n_features=10,n_informative=3)"
      ],
      "execution_count": 54,
      "outputs": []
    },
    {
      "cell_type": "code",
      "metadata": {
        "id": "CGmyyKAzexDH"
      },
      "source": [
        "X_train,X_test,y_train,y_test = train_test_split(X,y,test_size=0.2,random_state=42)"
      ],
      "execution_count": 55,
      "outputs": []
    },
    {
      "cell_type": "code",
      "metadata": {
        "colab": {
          "base_uri": "https://localhost:8080/"
        },
        "id": "yLcpuIzIe3PP",
        "outputId": "67fd1ba5-5619-4e4a-cb8c-d561352a96f8"
      },
      "source": [
        "dt = DecisionTreeClassifier(random_state=42)\r\n",
        "dt.fit(X_train,y_train)\r\n",
        "y_pred = dt.predict(X_test)\r\n",
        "\r\n",
        "print(\"Decision Tree accuracy\",accuracy_score(y_test,y_pred))"
      ],
      "execution_count": 56,
      "outputs": [
        {
          "output_type": "stream",
          "text": [
            "Decision Tree accuracy 0.8755\n"
          ],
          "name": "stdout"
        }
      ]
    },
    {
      "cell_type": "markdown",
      "metadata": {
        "id": "3uZFVRDXYjRu"
      },
      "source": [
        "# Bagging"
      ]
    },
    {
      "cell_type": "code",
      "metadata": {
        "id": "eY_kaGqBe-R-"
      },
      "source": [
        "bag = BaggingClassifier(\r\n",
        "    base_estimator=DecisionTreeClassifier(),\r\n",
        "    n_estimators=500,\r\n",
        "    max_samples=0.5,\r\n",
        "    bootstrap=True,\r\n",
        "    random_state=42\r\n",
        ")"
      ],
      "execution_count": 64,
      "outputs": []
    },
    {
      "cell_type": "code",
      "metadata": {
        "colab": {
          "base_uri": "https://localhost:8080/"
        },
        "id": "ZoXHKroUfT3n",
        "outputId": "fb8c154e-1574-4e5c-fdb2-2c6cbec7a725"
      },
      "source": [
        "bag.fit(X_train,y_train)"
      ],
      "execution_count": 65,
      "outputs": [
        {
          "output_type": "execute_result",
          "data": {
            "text/plain": [
              "BaggingClassifier(base_estimator=DecisionTreeClassifier(ccp_alpha=0.0,\n",
              "                                                        class_weight=None,\n",
              "                                                        criterion='gini',\n",
              "                                                        max_depth=None,\n",
              "                                                        max_features=None,\n",
              "                                                        max_leaf_nodes=None,\n",
              "                                                        min_impurity_decrease=0.0,\n",
              "                                                        min_impurity_split=None,\n",
              "                                                        min_samples_leaf=1,\n",
              "                                                        min_samples_split=2,\n",
              "                                                        min_weight_fraction_leaf=0.0,\n",
              "                                                        presort='deprecated',\n",
              "                                                        random_state=None,\n",
              "                                                        splitter='best'),\n",
              "                  bootstrap=True, bootstrap_features=False, max_features=1.0,\n",
              "                  max_samples=0.5, n_estimators=500, n_jobs=None,\n",
              "                  oob_score=False, random_state=42, verbose=0,\n",
              "                  warm_start=False)"
            ]
          },
          "metadata": {
            "tags": []
          },
          "execution_count": 65
        }
      ]
    },
    {
      "cell_type": "code",
      "metadata": {
        "id": "ZgcehMVMfW2L"
      },
      "source": [
        "y_pred = bag.predict(X_test)"
      ],
      "execution_count": 66,
      "outputs": []
    },
    {
      "cell_type": "code",
      "metadata": {
        "colab": {
          "base_uri": "https://localhost:8080/"
        },
        "id": "a3ftr8Q1faVP",
        "outputId": "637a7630-b3cd-4040-a1f0-c051918a17fc"
      },
      "source": [
        "accuracy_score(y_test,y_pred)"
      ],
      "execution_count": 67,
      "outputs": [
        {
          "output_type": "execute_result",
          "data": {
            "text/plain": [
              "0.9165"
            ]
          },
          "metadata": {
            "tags": []
          },
          "execution_count": 67
        }
      ]
    },
    {
      "cell_type": "code",
      "metadata": {
        "colab": {
          "base_uri": "https://localhost:8080/"
        },
        "id": "rJa4tSMin_26",
        "outputId": "b70af0c4-e0d5-4a47-a7b7-06db5c751de1"
      },
      "source": [
        "bag.estimators_samples_[0].shape"
      ],
      "execution_count": 68,
      "outputs": [
        {
          "output_type": "execute_result",
          "data": {
            "text/plain": [
              "(4000,)"
            ]
          },
          "metadata": {
            "tags": []
          },
          "execution_count": 68
        }
      ]
    },
    {
      "cell_type": "code",
      "metadata": {
        "colab": {
          "base_uri": "https://localhost:8080/"
        },
        "id": "JWo0CNMmoZzQ",
        "outputId": "f1087159-10ae-4361-d5f9-680da50bc783"
      },
      "source": [
        "bag.estimators_features_[0].shape"
      ],
      "execution_count": 69,
      "outputs": [
        {
          "output_type": "execute_result",
          "data": {
            "text/plain": [
              "(10,)"
            ]
          },
          "metadata": {
            "tags": []
          },
          "execution_count": 69
        }
      ]
    },
    {
      "cell_type": "markdown",
      "metadata": {
        "id": "kIObt37An1T8"
      },
      "source": [
        ""
      ]
    },
    {
      "cell_type": "markdown",
      "metadata": {
        "id": "HCgztqWncKQ8"
      },
      "source": [
        "# Bagging using SVM"
      ]
    },
    {
      "cell_type": "code",
      "metadata": {
        "id": "ZWmS8I9RcM5c"
      },
      "source": [
        "bag = BaggingClassifier(\r\n",
        "    base_estimator=SVC(),\r\n",
        "    n_estimators=500,\r\n",
        "    max_samples=0.25,\r\n",
        "    bootstrap=True,\r\n",
        "    random_state=42\r\n",
        ")"
      ],
      "execution_count": 70,
      "outputs": []
    },
    {
      "cell_type": "code",
      "metadata": {
        "colab": {
          "base_uri": "https://localhost:8080/"
        },
        "id": "Renx0AxMcTqL",
        "outputId": "5179381c-a5b8-4218-f5ee-9a2510908aff"
      },
      "source": [
        "bag.fit(X_train,y_train)\r\n",
        "y_pred = bag.predict(X_test)\r\n",
        "print(\"Bagging using SVM\",accuracy_score(y_test,y_pred))"
      ],
      "execution_count": 71,
      "outputs": [
        {
          "output_type": "stream",
          "text": [
            "Bagging using SVM 0.901\n"
          ],
          "name": "stdout"
        }
      ]
    },
    {
      "cell_type": "markdown",
      "metadata": {
        "id": "TzErWPZ2YmH0"
      },
      "source": [
        "# Pasting"
      ]
    },
    {
      "cell_type": "code",
      "metadata": {
        "id": "65AsbB-PYozP"
      },
      "source": [
        "bag = BaggingClassifier(\r\n",
        "    base_estimator=DecisionTreeClassifier(),\r\n",
        "    n_estimators=500,\r\n",
        "    max_samples=0.25,\r\n",
        "    bootstrap=False,\r\n",
        "    random_state=42,\r\n",
        "    verbose = 1,\r\n",
        "    n_jobs=-1\r\n",
        ")"
      ],
      "execution_count": 72,
      "outputs": []
    },
    {
      "cell_type": "code",
      "metadata": {
        "colab": {
          "base_uri": "https://localhost:8080/"
        },
        "id": "fDm-J70cYo7E",
        "outputId": "bc2c8fea-0d8b-404b-bf16-9f68e78cbd49"
      },
      "source": [
        "bag.fit(X_train,y_train)\r\n",
        "y_pred = bag.predict(X_test)\r\n",
        "print(\"Pasting classifier\",accuracy_score(y_test,y_pred))"
      ],
      "execution_count": 73,
      "outputs": [
        {
          "output_type": "stream",
          "text": [
            "[Parallel(n_jobs=2)]: Using backend LokyBackend with 2 concurrent workers.\n",
            "[Parallel(n_jobs=2)]: Done   2 out of   2 | elapsed:    8.3s remaining:    0.0s\n",
            "[Parallel(n_jobs=2)]: Done   2 out of   2 | elapsed:    8.3s finished\n",
            "[Parallel(n_jobs=2)]: Using backend LokyBackend with 2 concurrent workers.\n"
          ],
          "name": "stderr"
        },
        {
          "output_type": "stream",
          "text": [
            "Pasting classifier 0.9165\n"
          ],
          "name": "stdout"
        },
        {
          "output_type": "stream",
          "text": [
            "[Parallel(n_jobs=2)]: Done   2 out of   2 | elapsed:    0.5s remaining:    0.0s\n",
            "[Parallel(n_jobs=2)]: Done   2 out of   2 | elapsed:    0.5s finished\n"
          ],
          "name": "stderr"
        }
      ]
    },
    {
      "cell_type": "markdown",
      "metadata": {
        "id": "BLqraRg3ZO7t"
      },
      "source": [
        "# Random Subspaces"
      ]
    },
    {
      "cell_type": "code",
      "metadata": {
        "id": "kFWhqzngYpGj"
      },
      "source": [
        "bag = BaggingClassifier(\r\n",
        "    base_estimator=DecisionTreeClassifier(),\r\n",
        "    n_estimators=500,\r\n",
        "    max_samples=1.0,\r\n",
        "    bootstrap=False,\r\n",
        "    max_features=0.5,\r\n",
        "    bootstrap_features=True,\r\n",
        "    random_state=42\r\n",
        ")"
      ],
      "execution_count": 74,
      "outputs": []
    },
    {
      "cell_type": "code",
      "metadata": {
        "colab": {
          "base_uri": "https://localhost:8080/"
        },
        "id": "9JVSgguMZdDb",
        "outputId": "30145bdb-223c-483f-ec15-6bcc83ae2834"
      },
      "source": [
        "bag.fit(X_train,y_train)\r\n",
        "y_pred = bag.predict(X_test)\r\n",
        "print(\"Random Subspaces classifier\",accuracy_score(y_test,y_pred))"
      ],
      "execution_count": 75,
      "outputs": [
        {
          "output_type": "stream",
          "text": [
            "Random Subspaces classifier 0.911\n"
          ],
          "name": "stdout"
        }
      ]
    },
    {
      "cell_type": "code",
      "metadata": {
        "colab": {
          "base_uri": "https://localhost:8080/"
        },
        "id": "ijhj37uupe3r",
        "outputId": "05cf0cf8-adf0-471d-8333-6191fb49ec01"
      },
      "source": [
        "bag.estimators_samples_[0].shape"
      ],
      "execution_count": 76,
      "outputs": [
        {
          "output_type": "execute_result",
          "data": {
            "text/plain": [
              "(8000,)"
            ]
          },
          "metadata": {
            "tags": []
          },
          "execution_count": 76
        }
      ]
    },
    {
      "cell_type": "code",
      "metadata": {
        "colab": {
          "base_uri": "https://localhost:8080/"
        },
        "id": "giDAJalopje4",
        "outputId": "8bdff414-4761-4ad5-b6db-c967dc7cabd4"
      },
      "source": [
        "bag.estimators_features_[0].shape"
      ],
      "execution_count": 77,
      "outputs": [
        {
          "output_type": "execute_result",
          "data": {
            "text/plain": [
              "(5,)"
            ]
          },
          "metadata": {
            "tags": []
          },
          "execution_count": 77
        }
      ]
    },
    {
      "cell_type": "markdown",
      "metadata": {
        "id": "A2E0HMMFZr6k"
      },
      "source": [
        "# Random Patches"
      ]
    },
    {
      "cell_type": "code",
      "metadata": {
        "id": "MPglsqEtZvX0"
      },
      "source": [
        "bag = BaggingClassifier(\r\n",
        "    base_estimator=DecisionTreeClassifier(),\r\n",
        "    n_estimators=500,\r\n",
        "    max_samples=0.25,\r\n",
        "    bootstrap=True,\r\n",
        "    max_features=0.5,\r\n",
        "    bootstrap_features=True,\r\n",
        "    random_state=42\r\n",
        ")"
      ],
      "execution_count": 78,
      "outputs": []
    },
    {
      "cell_type": "code",
      "metadata": {
        "colab": {
          "base_uri": "https://localhost:8080/"
        },
        "id": "cNWH0JHiZvbr",
        "outputId": "d8219936-b17a-4446-87cd-1070b9bd422d"
      },
      "source": [
        "bag.fit(X_train,y_train)\r\n",
        "y_pred = bag.predict(X_test)\r\n",
        "print(\"Random Patches classifier\",accuracy_score(y_test,y_pred))"
      ],
      "execution_count": 79,
      "outputs": [
        {
          "output_type": "stream",
          "text": [
            "Random Patches classifier 0.909\n"
          ],
          "name": "stdout"
        }
      ]
    },
    {
      "cell_type": "markdown",
      "metadata": {
        "id": "7m-74wy0aEa7"
      },
      "source": [
        "# OOB Score"
      ]
    },
    {
      "cell_type": "code",
      "metadata": {
        "id": "EgfPdBfVaG-U"
      },
      "source": [
        "bag = BaggingClassifier(\r\n",
        "    base_estimator=DecisionTreeClassifier(),\r\n",
        "    n_estimators=500,\r\n",
        "    max_samples=0.25,\r\n",
        "    bootstrap=True,\r\n",
        "    oob_score=True,\r\n",
        "    random_state=42\r\n",
        ")"
      ],
      "execution_count": 80,
      "outputs": []
    },
    {
      "cell_type": "code",
      "metadata": {
        "colab": {
          "base_uri": "https://localhost:8080/"
        },
        "id": "B-NmncQXaHGj",
        "outputId": "c641d683-a349-4180-e403-8004f9821b42"
      },
      "source": [
        "bag.fit(X_train,y_train)"
      ],
      "execution_count": 81,
      "outputs": [
        {
          "output_type": "execute_result",
          "data": {
            "text/plain": [
              "BaggingClassifier(base_estimator=DecisionTreeClassifier(ccp_alpha=0.0,\n",
              "                                                        class_weight=None,\n",
              "                                                        criterion='gini',\n",
              "                                                        max_depth=None,\n",
              "                                                        max_features=None,\n",
              "                                                        max_leaf_nodes=None,\n",
              "                                                        min_impurity_decrease=0.0,\n",
              "                                                        min_impurity_split=None,\n",
              "                                                        min_samples_leaf=1,\n",
              "                                                        min_samples_split=2,\n",
              "                                                        min_weight_fraction_leaf=0.0,\n",
              "                                                        presort='deprecated',\n",
              "                                                        random_state=None,\n",
              "                                                        splitter='best'),\n",
              "                  bootstrap=True, bootstrap_features=False, max_features=1.0,\n",
              "                  max_samples=0.25, n_estimators=500, n_jobs=None,\n",
              "                  oob_score=True, random_state=42, verbose=0, warm_start=False)"
            ]
          },
          "metadata": {
            "tags": []
          },
          "execution_count": 81
        }
      ]
    },
    {
      "cell_type": "code",
      "metadata": {
        "colab": {
          "base_uri": "https://localhost:8080/"
        },
        "id": "Tt2iB2cHaSfc",
        "outputId": "c151215c-8ff0-45ac-b2f7-218382c57e47"
      },
      "source": [
        "bag.oob_score_"
      ],
      "execution_count": 82,
      "outputs": [
        {
          "output_type": "execute_result",
          "data": {
            "text/plain": [
              "0.90425"
            ]
          },
          "metadata": {
            "tags": []
          },
          "execution_count": 82
        }
      ]
    },
    {
      "cell_type": "code",
      "metadata": {
        "colab": {
          "base_uri": "https://localhost:8080/"
        },
        "id": "BsM-t4ctaaGs",
        "outputId": "38222f1e-f946-423d-be33-257251874948"
      },
      "source": [
        "y_pred = bag.predict(X_test)\r\n",
        "print(\"Accuracy\",accuracy_score(y_test,y_pred))"
      ],
      "execution_count": 83,
      "outputs": [
        {
          "output_type": "stream",
          "text": [
            "Accuracy 0.9195\n"
          ],
          "name": "stdout"
        }
      ]
    },
    {
      "cell_type": "markdown",
      "metadata": {
        "id": "lo1D9KKKWEHY"
      },
      "source": [
        "# Bagging Tips\r\n",
        "\r\n",
        "- Bagging generally gives better results than Pasting\r\n",
        "- Good results come around the 25% to 50% row sampling mark\r\n",
        "- Random patches and subspaces should be used while dealing with high dimensional data\r\n",
        "- To find the correct hyperparameter values we can do GridSearchCV/RandomSearchCV"
      ]
    },
    {
      "cell_type": "markdown",
      "metadata": {
        "id": "Y0-90QqvWxt8"
      },
      "source": [
        "# Applying GridSearchCV"
      ]
    },
    {
      "cell_type": "code",
      "metadata": {
        "id": "uWGDWhYkipb1"
      },
      "source": [
        "from sklearn.model_selection import GridSearchCV"
      ],
      "execution_count": 9,
      "outputs": []
    },
    {
      "cell_type": "code",
      "metadata": {
        "id": "FZ2EQpQKfkyX"
      },
      "source": [
        "parameters = {\r\n",
        "    'n_estimators': [50,100,500], \r\n",
        "    'max_samples': [0.1,0.4,0.7,1.0],\r\n",
        "    'bootstrap' : [True,False],\r\n",
        "    'max_features' : [0.1,0.4,0.7,1.0]\r\n",
        "    }"
      ],
      "execution_count": 10,
      "outputs": []
    },
    {
      "cell_type": "code",
      "metadata": {
        "id": "5NtTsrI4ikQX"
      },
      "source": [
        "search = GridSearchCV(BaggingClassifier(), parameters, cv=5)"
      ],
      "execution_count": 11,
      "outputs": []
    },
    {
      "cell_type": "code",
      "metadata": {
        "colab": {
          "base_uri": "https://localhost:8080/"
        },
        "id": "-97kx2EnixU2",
        "outputId": "098f5ff9-f039-4109-8af0-985da6c0d8bd"
      },
      "source": [
        "search.fit(X_train,y_train)"
      ],
      "execution_count": 12,
      "outputs": [
        {
          "output_type": "execute_result",
          "data": {
            "text/plain": [
              "GridSearchCV(cv=5, error_score=nan,\n",
              "             estimator=BaggingClassifier(base_estimator=None, bootstrap=True,\n",
              "                                         bootstrap_features=False,\n",
              "                                         max_features=1.0, max_samples=1.0,\n",
              "                                         n_estimators=10, n_jobs=None,\n",
              "                                         oob_score=False, random_state=None,\n",
              "                                         verbose=0, warm_start=False),\n",
              "             iid='deprecated', n_jobs=None,\n",
              "             param_grid={'bootstrap': [True, False],\n",
              "                         'max_features': [0.1, 0.4, 0.7, 1.0],\n",
              "                         'max_samples': [0.1, 0.4, 0.7, 1.0],\n",
              "                         'n_estimators': [50, 100, 500]},\n",
              "             pre_dispatch='2*n_jobs', refit=True, return_train_score=False,\n",
              "             scoring=None, verbose=0)"
            ]
          },
          "metadata": {
            "tags": []
          },
          "execution_count": 12
        }
      ]
    },
    {
      "cell_type": "code",
      "metadata": {
        "colab": {
          "base_uri": "https://localhost:8080/"
        },
        "id": "BEyE_QTzizni",
        "outputId": "0e13660b-ae8b-408f-c2b8-0ed28aa9dfb9"
      },
      "source": [
        "search.best_params_\r\n",
        "search.best_score_"
      ],
      "execution_count": 13,
      "outputs": [
        {
          "output_type": "execute_result",
          "data": {
            "text/plain": [
              "0.8986249999999998"
            ]
          },
          "metadata": {
            "tags": []
          },
          "execution_count": 13
        }
      ]
    },
    {
      "cell_type": "code",
      "metadata": {
        "colab": {
          "base_uri": "https://localhost:8080/"
        },
        "id": "OdutuW6hW-em",
        "outputId": "5465a544-8c16-4d1e-f835-dea32dca4482"
      },
      "source": [
        "search.best_params_"
      ],
      "execution_count": 14,
      "outputs": [
        {
          "output_type": "execute_result",
          "data": {
            "text/plain": [
              "{'bootstrap': True,\n",
              " 'max_features': 0.7,\n",
              " 'max_samples': 0.4,\n",
              " 'n_estimators': 500}"
            ]
          },
          "metadata": {
            "tags": []
          },
          "execution_count": 14
        }
      ]
    },
    {
      "cell_type": "code",
      "metadata": {
        "id": "UWD2pBiKzk40"
      },
      "source": [
        ""
      ],
      "execution_count": null,
      "outputs": []
    }
  ]
}
{
  "nbformat": 4,
  "nbformat_minor": 0,
  "metadata": {
    "colab": {
      "name": "bagging-regression.ipynb",
      "provenance": []
    },
    "kernelspec": {
      "name": "python3",
      "display_name": "Python 3"
    }
  },
  "cells": [
    {
      "cell_type": "code",
      "metadata": {
        "colab": {
          "base_uri": "https://localhost:8080/"
        },
        "id": "-gDkpJntIt2i",
        "outputId": "d6de2d68-c5bd-4e89-c9fc-53d1e5911f57"
      },
      "source": [
        "from sklearn import datasets\r\n",
        "\r\n",
        "boston = datasets.load_boston()\r\n",
        "X_boston, Y_boston = boston.data, boston.target\r\n",
        "print('Dataset features names : '+ str(boston.feature_names))\r\n",
        "print('Dataset features size : '+ str(boston.data.shape))\r\n",
        "print('Dataset target size : '+ str(boston.target.shape))"
      ],
      "execution_count": 1,
      "outputs": [
        {
          "output_type": "stream",
          "text": [
            "Dataset features names : ['CRIM' 'ZN' 'INDUS' 'CHAS' 'NOX' 'RM' 'AGE' 'DIS' 'RAD' 'TAX' 'PTRATIO'\n",
            " 'B' 'LSTAT']\n",
            "Dataset features size : (506, 13)\n",
            "Dataset target size : (506,)\n"
          ],
          "name": "stdout"
        }
      ]
    },
    {
      "cell_type": "code",
      "metadata": {
        "id": "-_V66s1ZJqOj"
      },
      "source": [
        "from sklearn.linear_model import LinearRegression\r\n",
        "from sklearn.neighbors import KNeighborsRegressor\r\n",
        "from sklearn.model_selection import GridSearchCV\r\n",
        "from sklearn.tree import DecisionTreeRegressor\r\n",
        "from sklearn.metrics import r2_score"
      ],
      "execution_count": 16,
      "outputs": []
    },
    {
      "cell_type": "code",
      "metadata": {
        "colab": {
          "base_uri": "https://localhost:8080/"
        },
        "id": "uR-MoTpeI1gw",
        "outputId": "74fbcb52-72e2-4c48-f2c3-55b4d1ab20d3"
      },
      "source": [
        "from sklearn.model_selection import train_test_split\r\n",
        "\r\n",
        "X_train, X_test, Y_train, Y_test = train_test_split(X_boston, Y_boston , train_size=0.80, test_size=0.20, random_state=123)\r\n",
        "print('Train/Test Sets Sizes : ',X_train.shape, X_test.shape, Y_train.shape, Y_test.shape)"
      ],
      "execution_count": 2,
      "outputs": [
        {
          "output_type": "stream",
          "text": [
            "Train/Test Sets Sizes :  (404, 13) (102, 13) (404,) (102,)\n"
          ],
          "name": "stdout"
        }
      ]
    },
    {
      "cell_type": "code",
      "metadata": {
        "id": "aR1Nk97qLePU"
      },
      "source": [
        "lr = LinearRegression()\r\n",
        "dt = DecisionTreeRegressor()\r\n",
        "knn = KNeighborsRegressor()"
      ],
      "execution_count": 13,
      "outputs": []
    },
    {
      "cell_type": "code",
      "metadata": {
        "colab": {
          "base_uri": "https://localhost:8080/"
        },
        "id": "5QVq3vX0LvlS",
        "outputId": "df283b3e-c155-40ec-e77d-ff4759a65aff"
      },
      "source": [
        "lr.fit(X_train,Y_train)\r\n",
        "dt.fit(X_train,Y_train)\r\n",
        "knn.fit(X_train,Y_train)"
      ],
      "execution_count": 14,
      "outputs": [
        {
          "output_type": "execute_result",
          "data": {
            "text/plain": [
              "KNeighborsRegressor(algorithm='auto', leaf_size=30, metric='minkowski',\n",
              "                    metric_params=None, n_jobs=None, n_neighbors=5, p=2,\n",
              "                    weights='uniform')"
            ]
          },
          "metadata": {
            "tags": []
          },
          "execution_count": 14
        }
      ]
    },
    {
      "cell_type": "code",
      "metadata": {
        "id": "yW4a1bHJL2jz"
      },
      "source": [
        "y_pred1 = lr.predict(X_test)\r\n",
        "y_pred2 = dt.predict(X_test)\r\n",
        "y_pred3 = knn.predict(X_test)"
      ],
      "execution_count": 15,
      "outputs": []
    },
    {
      "cell_type": "code",
      "metadata": {
        "colab": {
          "base_uri": "https://localhost:8080/"
        },
        "id": "lx7R5oxSMBpa",
        "outputId": "b09b60cc-8869-4fd2-84f1-522cf41e7498"
      },
      "source": [
        "print(\"R^2 score for LR\",r2_score(Y_test,y_pred1))\r\n",
        "print(\"R^2 score for DT\",r2_score(Y_test,y_pred2))\r\n",
        "print(\"R^2 score for KNN\",r2_score(Y_test,y_pred3))"
      ],
      "execution_count": 17,
      "outputs": [
        {
          "output_type": "stream",
          "text": [
            "R^2 score for LR 0.6592466510354125\n",
            "R^2 score for DT 0.4379566831493381\n",
            "R^2 score for KNN 0.5475962186976784\n"
          ],
          "name": "stdout"
        }
      ]
    },
    {
      "cell_type": "code",
      "metadata": {
        "colab": {
          "base_uri": "https://localhost:8080/"
        },
        "id": "tz7obCmMI_Pa",
        "outputId": "0bc05f62-f910-4bce-f18c-f7d13e6c357b"
      },
      "source": [
        "from sklearn.ensemble import BaggingRegressor\r\n",
        "\r\n",
        "bag_regressor = BaggingRegressor(random_state=1)\r\n",
        "bag_regressor.fit(X_train, Y_train)"
      ],
      "execution_count": 3,
      "outputs": [
        {
          "output_type": "execute_result",
          "data": {
            "text/plain": [
              "BaggingRegressor(base_estimator=None, bootstrap=True, bootstrap_features=False,\n",
              "                 max_features=1.0, max_samples=1.0, n_estimators=10,\n",
              "                 n_jobs=None, oob_score=False, random_state=1, verbose=0,\n",
              "                 warm_start=False)"
            ]
          },
          "metadata": {
            "tags": []
          },
          "execution_count": 3
        }
      ]
    },
    {
      "cell_type": "code",
      "metadata": {
        "colab": {
          "base_uri": "https://localhost:8080/"
        },
        "id": "SCAuotaHJCnK",
        "outputId": "d2a269b6-3c37-4e6f-aba3-14411c8b3992"
      },
      "source": [
        "Y_preds = bag_regressor.predict(X_test)\r\n",
        "\r\n",
        "print('Training Coefficient of R^2 : %.3f'%bag_regressor.score(X_train, Y_train))\r\n",
        "print('Test Coefficient of R^2 : %.3f'%bag_regressor.score(X_test, Y_test))"
      ],
      "execution_count": 5,
      "outputs": [
        {
          "output_type": "stream",
          "text": [
            "Training Coefficient of R^2 : 0.980\n",
            "Test Coefficient of R^2 : 0.812\n"
          ],
          "name": "stdout"
        }
      ]
    },
    {
      "cell_type": "code",
      "metadata": {
        "colab": {
          "base_uri": "https://localhost:8080/"
        },
        "id": "vG9zkJQ7JGeA",
        "outputId": "865cea05-62d4-4c18-e1a7-5d2c9064836d"
      },
      "source": [
        "%%time\r\n",
        "\r\n",
        "n_samples = boston.data.shape[0]\r\n",
        "n_features = boston.data.shape[1]\r\n",
        "\r\n",
        "params = {'base_estimator': [None, LinearRegression(), KNeighborsRegressor()],\r\n",
        "          'n_estimators': [20,50,100],\r\n",
        "          'max_samples': [0.5,1.0],\r\n",
        "          'max_features': [0.5,1.0],\r\n",
        "          'bootstrap': [True, False],\r\n",
        "          'bootstrap_features': [True, False]}\r\n",
        "\r\n",
        "bagging_regressor_grid = GridSearchCV(BaggingRegressor(random_state=1, n_jobs=-1), param_grid =params, cv=3, n_jobs=-1, verbose=1)\r\n",
        "bagging_regressor_grid.fit(X_train, Y_train)\r\n",
        "\r\n",
        "print('Train R^2 Score : %.3f'%bagging_regressor_grid.best_estimator_.score(X_train, Y_train))\r\n",
        "print('Test R^2 Score : %.3f'%bagging_regressor_grid.best_estimator_.score(X_test, Y_test))\r\n",
        "print('Best R^2 Score Through Grid Search : %.3f'%bagging_regressor_grid.best_score_)\r\n",
        "print('Best Parameters : ',bagging_regressor_grid.best_params_)"
      ],
      "execution_count": 10,
      "outputs": [
        {
          "output_type": "stream",
          "text": [
            "Fitting 3 folds for each of 144 candidates, totalling 432 fits\n"
          ],
          "name": "stdout"
        },
        {
          "output_type": "stream",
          "text": [
            "[Parallel(n_jobs=-1)]: Using backend LokyBackend with 2 concurrent workers.\n",
            "[Parallel(n_jobs=-1)]: Done  46 tasks      | elapsed:    8.0s\n",
            "[Parallel(n_jobs=-1)]: Done 196 tasks      | elapsed:   32.3s\n",
            "[Parallel(n_jobs=-1)]: Done 432 out of 432 | elapsed:  1.1min finished\n"
          ],
          "name": "stderr"
        },
        {
          "output_type": "stream",
          "text": [
            "Train R^2 Score : 0.983\n",
            "Test R^2 Score : 0.802\n",
            "Best R^2 Score Through Grid Search : 0.870\n",
            "Best Parameters :  {'base_estimator': None, 'bootstrap': True, 'bootstrap_features': False, 'max_features': 1.0, 'max_samples': 1.0, 'n_estimators': 50}\n",
            "CPU times: user 1.23 s, sys: 85 ms, total: 1.32 s\n",
            "Wall time: 1min 6s\n"
          ],
          "name": "stdout"
        }
      ]
    },
    {
      "cell_type": "code",
      "metadata": {
        "id": "hm70vQMNJn4J"
      },
      "source": [
        ""
      ],
      "execution_count": null,
      "outputs": []
    }
  ]
}